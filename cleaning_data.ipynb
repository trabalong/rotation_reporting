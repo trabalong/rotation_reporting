{
 "cells": [
  {
   "cell_type": "code",
   "execution_count": 2,
   "id": "b4e73b8d",
   "metadata": {},
   "outputs": [],
   "source": [
    "import findspark\n",
    "from pyspark.sql import SparkSession\n",
    "from pyspark.sql.functions import *\n",
    "\n",
    "from datetime import date\n",
    "\n",
    "from itertools import chain"
   ]
  },
  {
   "cell_type": "code",
   "execution_count": 3,
   "id": "c6b84fe5",
   "metadata": {},
   "outputs": [],
   "source": [
    "# Necesario para añadir a la ruta sys.path las librerías necesarias Spark para trabajar en Python\n",
    "findspark.init()\n",
    "\n",
    "spark = SparkSession.builder.appName('dataCleaning').getOrCreate()\n",
    "\n",
    "# headcount de una plantilla parcial\n",
    "hc = spark.read.csv('employees.csv', header=True, inferSchema=True)\n",
    "# BBDD emails corporativos\n",
    "emails = spark.read.csv('emails.csv', header=True, inferSchema=True)\n",
    "# BBDD todos los centros y sus responsables\n",
    "listado = spark.read.csv('listado.csv', header=True, inferSchema=True)"
   ]
  },
  {
   "cell_type": "code",
   "execution_count": 4,
   "id": "f012928c",
   "metadata": {},
   "outputs": [],
   "source": [
    "# Renombra columnas\n",
    "name_columns = {'Cent->Código_del_Centro':'id_place','Cent->Provincia':'provincia','Trab->Código_del_Trabajador':'id_empleado',\n",
    "                'Trab->Apellidos_y_Nombre_del_Trabajador':'nombre','Trab->Descripción_del_Puesto_de_Trabajo':'puesto','Trab->Nacionalidad':'nacionalidad',\n",
    "                'Trab->Fecha_Ingreso_(AAAA/MM/DD)':'fecha_in','Trab->Fecha_Baja_(AAAA/MM/DD)':'fecha_out','Trab->Fecha_Fin_Contrato_(AAAA/MM/DD)':'fecha_end',\n",
    "                'Trab->Porcentaje_Jornada_tiempo_parcial':'jornada','Trab->Motivo_Baja':'motivo_baja','Trab->Sexo':'genero',\n",
    "                'Trab->Fecha_Nacimiento_(AAAA/MM/DD)':'fecha_nacimiento','Trab->Dirección_E-mail':'email','Trab->Tipo_Contrato_(3_posiciones)':'id_contrato'}\n",
    "\n",
    "for k, v in name_columns.items(): hc = hc.withColumnRenamed(k, v)"
   ]
  },
  {
   "cell_type": "code",
   "execution_count": 5,
   "id": "c5b95024",
   "metadata": {},
   "outputs": [],
   "source": [
    "# Arregla fechas\n",
    "today = date.today().strftime('%d/%m/%Y')\n",
    "\n",
    "# Fechas 00/00/0000 y 31/12/2099 indican que el empleado está activo\n",
    "hc = hc.withColumn('fecha_out', to_date(when((col('fecha_out')=='00/00/0000' ) | (col('fecha_out').isNull()), today).otherwise(col('fecha_out')), 'dd/MM/yyyy'))\n",
    "hc = hc.withColumn('fecha_end', to_date(when((col('fecha_end')=='31/12/2099' ) | (col('fecha_end')=='00/00/0000' ) | (col('fecha_end').isNull()), today).otherwise(col('fecha_end')), 'dd/MM/yyyy'))\n",
    "\n",
    "hc = hc.withColumn('fecha_in', to_date(hc['fecha_in'], 'dd/MM/yyyy'))\n",
    "hc = hc.withColumn('fecha_nacimiento', to_date(hc['fecha_nacimiento'], 'dd/MM/yyyy'))"
   ]
  },
  {
   "cell_type": "code",
   "execution_count": 6,
   "id": "41b12421",
   "metadata": {},
   "outputs": [],
   "source": [
    "# Ordena por fecha descendente y borra duplicados, quedándose con la última actualización del empleado\n",
    "hc = hc.orderBy(col('fecha_out').desc())\n",
    "hc = hc.dropDuplicates(['id_empleado'])\n",
    "\n",
    "# Fillna por 100, es decir, los nulos son jornada completa\n",
    "hc = hc.withColumn('jornada', when((col('jornada').isNull()), 100).otherwise(col('jornada')))\n",
    "\n",
    "# Fillna en el tipo de contrato por 0, que por defecto es CONTRATO INDEFINIDO\n",
    "hc = hc.withColumn('id_contrato', when((col('id_contrato').isNull()), 0).otherwise(col('id_contrato')).cast('int'))\n",
    "tipo_contrato = spark.read.csv('contrato.csv', header=True, inferSchema=True)\n",
    "hc = hc.join(tipo_contrato, on='id_contrato')"
   ]
  },
  {
   "cell_type": "code",
   "execution_count": 7,
   "id": "18d22c4e",
   "metadata": {},
   "outputs": [],
   "source": [
    "# Crea un diccionario de llaves múltiples asociadas a un mismo valor y clasifica los motivos de baja\n",
    "cambios = {\n",
    "\n",
    "    **dict.fromkeys(['DECISION DE LA EMPRESA','Despido por causas objetivas','Despido de la persona trabaj','Sucesión de empresa'], 'Despido del trabajador'),\n",
    "\n",
    "    **dict.fromkeys(['Suspensión del contrato o ER','Resolución de la persona tra','Reducción temporal de jornad','Cese por declaración de inva','Baja por excedencia maternal',\n",
    "                    'Fin de la actividad fija dis','Baja por agotamiento I.T.'], 'Otros'),\n",
    "\n",
    "    **dict.fromkeys(['DECISION DEL TRABAJADOR','Baja voluntaria del trabajad','Excedencia.','Baja voluntaria del trabajador','Excedencia','Baja por excedencia voluntar',\n",
    "                        'Baja voluntaria de la person','Cese en período de prueba po','Decision del trabajador'], 'Baja voluntaria del trabajador'),\n",
    "\n",
    "    **dict.fromkeys(['Fin de contrato temporal a i','Cese por expiración del tiem','Cese en período de prueba a','Cese en periodo de prueba'], 'Fin de contrato temporal')}\n",
    "\n",
    "mapping_expr = create_map([lit(x) for x in chain(*cambios.items())])\n",
    "\n",
    "hc = hc.withColumn('motivo_baja', coalesce(mapping_expr[hc['motivo_baja']], lit('Otros')))"
   ]
  },
  {
   "cell_type": "code",
   "execution_count": 8,
   "id": "35a501d4",
   "metadata": {},
   "outputs": [],
   "source": [
    "# Cruza con BBDD de emails corporativos y establece ese correo si el empleado lo tuviese\n",
    "hc = hc.withColumn('email', when(~col('email').rlike('[\\w\\.\\-]+@\\w+\\.\\w+'), None).otherwise(col('email')))\n",
    "\n",
    "hc = hc.join(emails, on='id_empleado', how='left')\n",
    "\n",
    "hc = hc.withColumn('email', when((col('email_corporativo').rlike('empresa')) | (col('email').isNull()), col('email_corporativo')).otherwise(col('email')))\n",
    "\n",
    "hc = hc.drop('email_corporativo')"
   ]
  },
  {
   "cell_type": "code",
   "execution_count": 9,
   "id": "42d5b07d",
   "metadata": {},
   "outputs": [],
   "source": [
    "# Utilizamos el informe de oficinas para conseguir datos del lugar de trabajo, del supervisor y del jefe\n",
    "hc = hc.join(listado, on='id_place', how='left')"
   ]
  },
  {
   "cell_type": "code",
   "execution_count": 10,
   "id": "129b7c5e",
   "metadata": {},
   "outputs": [],
   "source": [
    "# Utilizando las fechas, saca el estado (activo/salida), edad y el tiempo en empresa\n",
    "hc = hc.withColumn('estado', when(col('fecha_out')>=date.today(), 'Activo').otherwise('Salida'))\n",
    "\n",
    "hc = hc.withColumn('edad', round(months_between(lit(date.today()), col('fecha_nacimiento'))/lit(12)).cast('int'))\n",
    "\n",
    "hc = hc.withColumn('dias_empresa', round(months_between(col('fecha_end'), col('fecha_in'))*lit(30)).cast('int'))\n",
    "\n",
    "hc = hc.withColumn('años_empresa', round(col('dias_empresa')/lit(365)))"
   ]
  },
  {
   "cell_type": "code",
   "execution_count": 11,
   "id": "ddae57de",
   "metadata": {},
   "outputs": [],
   "source": [
    "# Columna para agrupar por categorías de tramos de empresa\n",
    "hc = hc.withColumn('tramo_empresa', when(col('años_empresa')<0.25, 'HASTA 3 MESES').when((col('años_empresa')>=0.25) & (col('años_empresa')<0.5), 'DE 3 A 6 MESES')\\\n",
    "        .when((col('años_empresa')>=0.5) & (col('años_empresa')<1), 'DE 6 MESES A 1 AÑO').when((col('años_empresa')>=1) & (col('años_empresa')<2), 'DE 1 A 2 AÑOS')\\\n",
    "        .when((col('años_empresa')>=2) & (col('años_empresa')<3), 'DE 2 A 3 AÑOS').when(col('años_empresa')>=3, 'MÁS DE 3 AÑOS').otherwise('unknown'))\n",
    "\n",
    "# Columna para agrupar por categorías de edad\n",
    "hc = hc.withColumn('tramo_edad', when(col('edad')<25, 'MENOR DE 25 AÑOS').when((col('edad')>=25) & (col('edad')<30), 'ENTRE 25 Y 30 AÑOS')\\\n",
    "        .when((col('edad')>=30) & (col('edad')<35), 'ENTRE 30 Y 35 AÑOS').when(col('edad')>=35, 'MAYOR DE 35 AÑOS').otherwise('unknown'))\n",
    "\n",
    "# Columna para agrupar por categorías de tipo de contrato\n",
    "hc = hc.withColumn('horas_contrato', when(col('jornada')<=50, 'CONTRATO DE 15 A 20 HORAS').when((col('jornada')>50) & (col('jornada')<75), 'CONTRATO DE 20 A 30 HORAS')\\\n",
    "    .when(col('jornada')>=75, 'CONTRATO DE 30 A 40 HORAS').otherwise('unknown'))"
   ]
  },
  {
   "cell_type": "code",
   "execution_count": 12,
   "id": "8fea798e",
   "metadata": {},
   "outputs": [],
   "source": [
    "# Accede a la función de transformar el DF a un DF Pandas para exportar a csv\n",
    "hc.toPandas().to_csv('cleaned_data.csv', index=False)"
   ]
  },
  {
   "cell_type": "code",
   "execution_count": 13,
   "id": "ac266218",
   "metadata": {},
   "outputs": [],
   "source": [
    "# Finaliza Spark y borra las actividades\n",
    "spark.stop()\n",
    "del spark"
   ]
  }
 ],
 "metadata": {
  "kernelspec": {
   "display_name": "Python 3 (ipykernel)",
   "language": "python",
   "name": "python3"
  },
  "language_info": {
   "codemirror_mode": {
    "name": "ipython",
    "version": 3
   },
   "file_extension": ".py",
   "mimetype": "text/x-python",
   "name": "python",
   "nbconvert_exporter": "python",
   "pygments_lexer": "ipython3",
   "version": "3.9.15"
  }
 },
 "nbformat": 4,
 "nbformat_minor": 5
}
